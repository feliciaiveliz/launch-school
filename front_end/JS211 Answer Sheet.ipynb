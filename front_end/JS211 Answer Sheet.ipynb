{
 "cells": [
  {
   "cell_type": "markdown",
   "metadata": {},
   "source": [
    "# Assignments & Comparisons"
   ]
  },
  {
   "cell_type": "markdown",
   "metadata": {},
   "source": [
    "A **variable declaration** reserves space in memory for a variable with a particular name. On `line 1`, we **declare** a variable called `randomNumber` with keyword `let`. This code example raises an error because we've declared this variable but have not initialized it to any value. The `=` assignment or reassignment operator assigns a value to a variable. The variable name goes on the left hand side of the `=` and the value goes to the right. "
   ]
  },
  {
   "cell_type": "code",
   "execution_count": 24,
   "metadata": {},
   "outputs": [
    {
     "name": "stdout",
     "output_type": "stream",
     "text": [
      "undefined\n"
     ]
    }
   ],
   "source": [
    "let b;\n",
    "console.log(b);"
   ]
  },
  {
   "cell_type": "markdown",
   "metadata": {},
   "source": [
    "For this example on `line 1` we declare and initialize global variable `x` and set it to a value of `5`. On `line 4` we declare and initialize global variable `y` and set it to reference the same value that is being referenced by `x`, which is `5`. Now both variables `x` and `y` both reference the number `5`. On `line 7` we **reassign** `x` to reference the number `9`. This reassignment simply makes the variable reference a different value than the one it was previously pointing to. Variable `y` is still referencing the number `5` while `x` is referencing the number `9`. \n",
    "Reassignment merely breaks the binding of a variable to a particular value and binds it with another value. It doesn't change or reassign the values of other variables that happen to point to the same value. In this case, we reassign `x` to a different number value but this does not have an effect on what `y` is referencing."
   ]
  },
  {
   "cell_type": "code",
   "execution_count": 23,
   "metadata": {},
   "outputs": [
    {
     "name": "stdout",
     "output_type": "stream",
     "text": [
      "9\n",
      "5\n"
     ]
    }
   ],
   "source": [
    "let x = 5;\n",
    "let y = x;\n",
    "x = 9;\n",
    "console.log(x); // now 9\n",
    "console.log(y); // still 5"
   ]
  },
  {
   "cell_type": "markdown",
   "metadata": {},
   "source": [
    "`const` is a keyword that lets you declare and initialize a constant variable. Constant variables do not change and cannot be reassigned to a new value.\n",
    "In this example, `const` is used to declare and initialize a constant variabled named `monthsInYear` to a number `12`. Constant declaration requires that a value is assigned to the variable all on one line. "
   ]
  },
  {
   "cell_type": "code",
   "execution_count": 22,
   "metadata": {},
   "outputs": [
    {
     "name": "stdout",
     "output_type": "stream",
     "text": [
      "12\n"
     ]
    },
    {
     "ename": "TypeError",
     "evalue": "Assignment to constant variable.",
     "output_type": "error",
     "traceback": [
      "evalmachine.<anonymous>:3",
      "monthsInYear = 13;",
      "             ^",
      "",
      "TypeError: Assignment to constant variable.",
      "    at evalmachine.<anonymous>:3:14",
      "    at Script.runInThisContext (vm.js:122:20)",
      "    at Object.runInThisContext (vm.js:329:38)",
      "    at run ([eval]:1054:15)",
      "    at onRunRequest ([eval]:888:18)",
      "    at onMessage ([eval]:848:13)",
      "    at process.emit (events.js:198:13)",
      "    at emit (internal/child_process.js:832:12)",
      "    at process._tickCallback (internal/process/next_tick.js:63:19)"
     ]
    }
   ],
   "source": [
    "const monthsInYear = 12;\n",
    "console.log(monthsInYear);\n",
    "monthsInYear = 13;"
   ]
  },
  {
   "cell_type": "markdown",
   "metadata": {},
   "source": [
    "# Comparison"
   ]
  },
  {
   "cell_type": "markdown",
   "metadata": {},
   "source": [
    "All comparison operators have a return value of one of two boolean values, `true` or `false`. The operator sits between two **operands**, which are the expressions to the left and right of the comparison operator. \n",
    "\n",
    "The `===` operator is called the **strict equality operator**. When it comes to comparing objects, it returns `true` if both objects are the *same* object. That is, it compares object references, not values. Even if two array objects have the same values, if they are not the same object in memory, the `===` operator will return `false`. It compares values and types when it comes to primitive data types. The `===` operator checks to see if its operands have the same value and if they are of the same data type. "
   ]
  },
  {
   "cell_type": "markdown",
   "metadata": {},
   "source": [
    "The `==` operator is called the **loose equality operator**. It returns `true` if both of its operands have the same value, irregardless if they're the same object or not. In this case, `==` will perform implicit coercion of data types. "
   ]
  },
  {
   "cell_type": "code",
   "execution_count": 19,
   "metadata": {},
   "outputs": [
    {
     "name": "stdout",
     "output_type": "stream",
     "text": [
      "[ 1, 2 ]\n",
      "[ 1, 2 ]\n"
     ]
    }
   ],
   "source": [
    "[1, 2, 3] === [1, 2, 3] // false\n",
    "let a = [1, 2, 3];\n",
    "let b = a;\n",
    "a.pop();\n",
    "console.log(a);\n",
    "console.log(b);"
   ]
  },
  {
   "cell_type": "markdown",
   "metadata": {},
   "source": [
    "# Variable Scope "
   ]
  },
  {
   "cell_type": "markdown",
   "metadata": {},
   "source": [
    "Variable scope determines the accessibility of variables in a program. A variable's scope depends on where the variable is declared in a program."
   ]
  },
  {
   "cell_type": "markdown",
   "metadata": {},
   "source": [
    "# Global Scope"
   ]
  },
  {
   "cell_type": "markdown",
   "metadata": {},
   "source": [
    "Global scope refers to a single scope that contains code that does not exist within a function or block. Globally scoped variables are available everywhere in a program, even within nested functions or blocks. In this example, we declare a global variable with `let` called `shoe` and initialize it to a string with a value of `Converse`. Using `console.log`, we pass in the variable `shoe` to it as argument, logging its value of `Converse` on `line 2`. This code example exists in the global scope because it is not contained within the scope of a function or block. The `shoe` global variable is accessible everywhere in a program."
   ]
  },
  {
   "cell_type": "code",
   "execution_count": 18,
   "metadata": {},
   "outputs": [
    {
     "name": "stdout",
     "output_type": "stream",
     "text": [
      "Converse\n"
     ]
    }
   ],
   "source": [
    "let shoe = 'Converse';\n",
    "console.log(shoe);"
   ]
  },
  {
   "cell_type": "markdown",
   "metadata": {},
   "source": [
    "# Function Scope"
   ]
  },
  {
   "cell_type": "markdown",
   "metadata": {},
   "source": [
    "Function scope refers to scope that is local to a function declaration or a function expression. Any variables that are declared within a function have function scope. These variables are in a scope that is local to that function and cannot be accessed from outside the function definition. However, code within a function definition can access variables that are in the global scope. In this example, we declare and initialize a global variable `message` to a string with a value of `Hello` on `line 1`. Since this variable is declared outside of a function or block, it is a global variable. On `lines 3-5` we define a function declaration called `greeting()`. The curly braces on `lines 3-5` define a block, within which in the function scope we invoke `console.log()` and pass in `message` to it as an argument. On `line 7` we invoke `console.log()` and pass in the `greetings()` function declaration to it as an argument. This code example logs `Hello` to the console and returns `undefined`.\n",
    "\n",
    "This code example demonstrates that code declared and initialized in the surrounding scope, in this case the global scope, is accessible within the local function scope of a function declaration."
   ]
  },
  {
   "cell_type": "code",
   "execution_count": 27,
   "metadata": {},
   "outputs": [
    {
     "name": "stdout",
     "output_type": "stream",
     "text": [
      "Hello\n",
      "undefined\n"
     ]
    }
   ],
   "source": [
    "let message = 'Hello';\n",
    "\n",
    "function greetings() {\n",
    "  console.log(message);\n",
    "}\n",
    "\n",
    "console.log(greetings());"
   ]
  },
  {
   "cell_type": "markdown",
   "metadata": {},
   "source": [
    "If we were to declare and initialize a variable within `greetings()`, we could not access it outside of the `greetings()` function. On `line 5` we declare and initialize a local variable called "
   ]
  },
  {
   "cell_type": "markdown",
   "metadata": {},
   "source": [
    "Local scope is a scope that is created by blocks or functions. Variables that are declared in this scope are not accessible outside of the function or block. These variables are in a scope that is entirely self-contained with respect to the function or block. "
   ]
  },
  {
   "cell_type": "markdown",
   "metadata": {},
   "source": [
    "# Lexical Scope"
   ]
  },
  {
   "cell_type": "markdown",
   "metadata": {},
   "source": [
    "Lexical scope, also called static scope, looks to the source code to determine the scope of a variable. This scope is used by Javascript to determine where to find variables. Functions create a scope if they are never executed in a program. Javascript looks for variables from bottom to top, from local scope to global scope."
   ]
  },
  {
   "cell_type": "markdown",
   "metadata": {},
   "source": [
    "# Block Scope"
   ]
  },
  {
   "cell_type": "markdown",
   "metadata": {},
   "source": [
    "Block scope is created when you declare a variable with either `let` or `const`. `Switch` statements, `if/else, if/else if/else`, `do...while`, `while`, `for` and `{}` (with code between), all contain blocks. Blocks typically are created by curly braces surrounding a set of expressions or statements."
   ]
  },
  {
   "cell_type": "markdown",
   "metadata": {},
   "source": [
    "In this example, the `if` statement evaluates the expression, `(a == 4)`. This expression evaluates to `true`, so the code within the block created by the `{}` curly braces is executed. The curly braces here `{}` define a block scope. This scope is local to the block. Any variables declared within a block are only accessible within the block, and are not accessible outside of it."
   ]
  },
  {
   "cell_type": "code",
   "execution_count": 4,
   "metadata": {},
   "outputs": [
    {
     "ename": "SyntaxError",
     "evalue": "Illegal return statement",
     "output_type": "error",
     "traceback": [
      "evalmachine.<anonymous>:4",
      "  return true;  // Body of block",
      "  ^^^^^^",
      "",
      "SyntaxError: Illegal return statement",
      "    at new Script (vm.js:83:7)",
      "    at createScript (vm.js:277:10)",
      "    at Object.runInThisContext (vm.js:329:10)",
      "    at run ([eval]:1054:15)",
      "    at onRunRequest ([eval]:888:18)",
      "    at onMessage ([eval]:848:13)",
      "    at process.emit (events.js:198:13)",
      "    at emit (internal/child_process.js:832:12)",
      "    at process._tickCallback (internal/process/next_tick.js:63:19)"
     ]
    }
   ],
   "source": [
    "let a = 4;\n",
    "\n",
    "if (a == 4) {   // ({) Start of block after (a == 4) expression\n",
    "  return true;  // Body of block\n",
    "}               // End of block"
   ]
  },
  {
   "cell_type": "code",
   "execution_count": null,
   "metadata": {},
   "outputs": [],
   "source": []
  }
 ],
 "metadata": {
  "kernelspec": {
   "display_name": "Javascript (Node.js)",
   "language": "javascript",
   "name": "javascript"
  },
  "language_info": {
   "file_extension": ".js",
   "mimetype": "application/javascript",
   "name": "javascript",
   "version": "10.19.0"
  }
 },
 "nbformat": 4,
 "nbformat_minor": 4
}
