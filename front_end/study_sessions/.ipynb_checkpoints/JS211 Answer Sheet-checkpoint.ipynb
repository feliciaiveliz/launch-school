{
 "cells": [
  {
   "cell_type": "markdown",
   "metadata": {},
   "source": [
    "# (DONE) Assignments & Comparisons"
   ]
  },
  {
   "cell_type": "markdown",
   "metadata": {},
   "source": [
    "A **variable declaration** reserves space in memory for a variable with a particular name. There are `3` differnet ways to declare a variable in Javascript, using `var`, `let` or `const`. `var` variables were more commonly used before `ES6` but can still appear in older programs. `var` variables have **block-scope**, while `let` and `const` variables have `function-scope`. When writing programs, it is recommended to use `let` or `const` when declaring variables. On `line 1`, we **declare** a variable called `a` with keyword `let`. The variable is **initialized** and currently references a value of `undefined`. The `=` is called the assignment, or reassignment operator, depending on how it's used. "
   ]
  },
  {
   "cell_type": "code",
   "execution_count": 10,
   "metadata": {},
   "outputs": [
    {
     "name": "stdout",
     "output_type": "stream",
     "text": [
      "undefined\n"
     ]
    }
   ],
   "source": [
    "let a;\n",
    "console.log(a); // undefined"
   ]
  },
  {
   "cell_type": "markdown",
   "metadata": {},
   "source": [
    "In this example, we declare a variable called `x` with keyword `var`. It is also initialized to a value of `undefined` when it is not initialized to a value at the same time as it is being declared."
   ]
  },
  {
   "cell_type": "code",
   "execution_count": 12,
   "metadata": {},
   "outputs": [
    {
     "name": "stdout",
     "output_type": "stream",
     "text": [
      "undefined\n"
     ]
    }
   ],
   "source": [
    "var x;\n",
    "console.log(x); // undefined"
   ]
  },
  {
   "cell_type": "markdown",
   "metadata": {},
   "source": [
    "`const` is a keyword that lets you declare and initialize a constant variable. Constant variables do not change. In this example, we declare and initialize a `const` variable to a value of `7`. `const` variables must be initialized to a value at the same time they are being declared. Otherwise, the program will throw an error: `SyntaxError: Missing initializer in const declaration`."
   ]
  },
  {
   "cell_type": "code",
   "execution_count": 14,
   "metadata": {},
   "outputs": [
    {
     "ename": "SyntaxError",
     "evalue": "Missing initializer in const declaration",
     "output_type": "error",
     "traceback": [
      "evalmachine.<anonymous>:4",
      "const daysOfWeek;",
      "      ^^^^^^^^^^",
      "",
      "SyntaxError: Missing initializer in const declaration",
      "    at new Script (vm.js:83:7)",
      "    at createScript (vm.js:277:10)",
      "    at Object.runInThisContext (vm.js:329:10)",
      "    at run ([eval]:1054:15)",
      "    at onRunRequest ([eval]:888:18)",
      "    at onMessage ([eval]:848:13)",
      "    at process.emit (events.js:198:13)",
      "    at emit (internal/child_process.js:832:12)",
      "    at process._tickCallback (internal/process/next_tick.js:63:19)"
     ]
    }
   ],
   "source": [
    "// const daysOfWeek = 7;\n",
    "// console.log(daysOfWeek); // 7\n",
    "\n",
    "const daysOfWeek;\n",
    "console.log(daysOfWeek); // SyntaxError: Missing initializer in const declaration"
   ]
  },
  {
   "cell_type": "markdown",
   "metadata": {},
   "source": [
    "In this example, `const` is used to declare and initialize a constant variable called `monthsInYear` to a number, `12`. This variable cannot be assigned to any other value."
   ]
  },
  {
   "cell_type": "code",
   "execution_count": 8,
   "metadata": {},
   "outputs": [
    {
     "ename": "SyntaxError",
     "evalue": "Identifier 'monthsInYear' has already been declared",
     "output_type": "error",
     "traceback": [
      "evalmachine.<anonymous>:1",
      "const monthsInYear = 12;",
      "^",
      "",
      "SyntaxError: Identifier 'monthsInYear' has already been declared",
      "    at evalmachine.<anonymous>:1:1",
      "    at Script.runInThisContext (vm.js:122:20)",
      "    at Object.runInThisContext (vm.js:329:38)",
      "    at run ([eval]:1054:15)",
      "    at onRunRequest ([eval]:888:18)",
      "    at onMessage ([eval]:848:13)",
      "    at process.emit (events.js:198:13)",
      "    at emit (internal/child_process.js:832:12)",
      "    at process._tickCallback (internal/process/next_tick.js:63:19)"
     ]
    }
   ],
   "source": [
    "const monthsInYear = 12;\n",
    "console.log(monthsInYear); // 12\n",
    "monthsInYear = 13;\n",
    "console.log(monthsInYear); // SyntaxError: Identifier 'monthsInYear' has already been declared"
   ]
  },
  {
   "cell_type": "markdown",
   "metadata": {},
   "source": [
    "# Variables as Pointers"
   ]
  },
  {
   "cell_type": "markdown",
   "metadata": {},
   "source": [
    "On `line 1` we declare and initialize global variable `x` and set it to a value of `5`. On `line 4` we declare and initialize global variable `y` and set it to reference also the number `5`. Now both variables `x` and `y` reference `5`. On `line 7` we reassign variable `x` to reference the number `9`. `x` previously was pointing to `5` but is now pointing to `9`. Variable `y` still references the number `5` while `x` references `9`. Reassignment merely breaks the binding of a variable to a particular value and rebinds it to another value. It doesn't have an effect on the variables that are also referencing that value. As in the case of `y`, it still references `5`, while `x` was being reassigned to another value. "
   ]
  },
  {
   "cell_type": "code",
   "execution_count": 6,
   "metadata": {},
   "outputs": [
    {
     "name": "stdout",
     "output_type": "stream",
     "text": [
      "9\n",
      "5\n"
     ]
    }
   ],
   "source": [
    "let x = 5;\n",
    "let y = x;\n",
    "x = 9;\n",
    "console.log(x); // 9\n",
    "console.log(y); // 5"
   ]
  },
  {
   "cell_type": "markdown",
   "metadata": {},
   "source": [
    "# (DONE) Comparison of Objects with `===`"
   ]
  },
  {
   "cell_type": "markdown",
   "metadata": {},
   "source": [
    "All comparison operators have a return value of one of two boolean values, `true` or `false`. The operator sits between two **operands**, which are the expressions to the left and right of the comparison operator. \n",
    "\n",
    "The `===` **strict equality operator**, or the **identity operator**, checks to see if its **object** operands have the same value and are of the same type. In the case of objects, the `===` operator will return `true` if the operands are the same object and if they have the same values. Even if two objects hold the same values, it will not compare the values, only the object references. In this example, variable `a` is declared and initialized to an array object `[1, 2, 3]`. We also declare a variable `b` and initialize it to an array object of `[1, 2, 3]`. On `line 3` we use the `===` strict equality operator to compare `a` and `b` and we see that it returns `false`. Even though `a` and `b` reference array objects of the same values `1`, `2`, `3`, the operator will return `false` because they are not the same objects in memory. "
   ]
  },
  {
   "cell_type": "code",
   "execution_count": 13,
   "metadata": {},
   "outputs": [
    {
     "data": {
      "text/plain": [
       "false"
      ]
     },
     "execution_count": 13,
     "metadata": {},
     "output_type": "execute_result"
    }
   ],
   "source": [
    "let a = [1, 2, 3];\n",
    "let b = [1, 2, 3];\n",
    "a === b; // false"
   ]
  },
  {
   "cell_type": "markdown",
   "metadata": {},
   "source": [
    "This time in the second example, we declare and initialize variable `b` and set it to reference the object that `a` is referencing. So now `a` and `b` both reference `[1, 2, 3]`, the same object in memory. This code example returns `true` because `a` and `b` are referencing the same object."
   ]
  },
  {
   "cell_type": "code",
   "execution_count": 3,
   "metadata": {},
   "outputs": [
    {
     "data": {
      "text/plain": [
       "true"
      ]
     },
     "execution_count": 3,
     "metadata": {},
     "output_type": "execute_result"
    }
   ],
   "source": [
    "let a = [1, 2, 3];\n",
    "let b = a;\n",
    "a === b; // true"
   ]
  },
  {
   "cell_type": "code",
   "execution_count": 4,
   "metadata": {},
   "outputs": [
    {
     "data": {
      "text/plain": [
       "false"
      ]
     },
     "execution_count": 4,
     "metadata": {},
     "output_type": "execute_result"
    }
   ],
   "source": [
    "['1', '2', '3'] === ['1', '2', '3']; // false"
   ]
  },
  {
   "cell_type": "markdown",
   "metadata": {},
   "source": [
    "# (DONE) Comparison of Primitives with `===`"
   ]
  },
  {
   "cell_type": "markdown",
   "metadata": {},
   "source": [
    "In this example, we use the `===` operator to compare two **primitive** values. It compares primitives by value, not by references. In this example, variable `a` references a string with a value of `hi`. We then declare and initialize variable `b` to reference a string also with a value of `hi`. We use the `===` operator is used to test for equality and it returns `true` when comparing `a` and `b`. This code demonstrates that when comparing primitive values, the `===` operator compares them by value; only returning `true` if their values are the same and if they are of the same data type, in this case: `string`. "
   ]
  },
  {
   "cell_type": "code",
   "execution_count": 6,
   "metadata": {},
   "outputs": [
    {
     "data": {
      "text/plain": [
       "true"
      ]
     },
     "execution_count": 6,
     "metadata": {},
     "output_type": "execute_result"
    }
   ],
   "source": [
    "let a = 'hi';\n",
    "let b = 'hi';\n",
    "a === b; // true"
   ]
  },
  {
   "cell_type": "markdown",
   "metadata": {},
   "source": [
    "In this example, we attempt to use the === strict equality operator while comparing two primitive values of different data types. This code example returns `false`. This is because `===` does not perform type conversion and only compares its operands as they currently are. Strings and numbers are not the same data types, so that is why this code returns false when we compare string '7' and number 7 using `===."
   ]
  },
  {
   "cell_type": "code",
   "execution_count": 36,
   "metadata": {},
   "outputs": [
    {
     "data": {
      "text/plain": [
       "false"
      ]
     },
     "execution_count": 36,
     "metadata": {},
     "output_type": "execute_result"
    }
   ],
   "source": [
    "'7' === 7; // false"
   ]
  },
  {
   "cell_type": "markdown",
   "metadata": {},
   "source": [
    "In this example, we declare and initialize global variable `a` and set it to reference a string with a value of `hi`. On `line 2` we declare global variable `b` and set it to reference `a`, that is, it is now referencing the value of `a`. The `===` operator is used on `line 3` to compare `a` and `b` and it returns `true`. This is because `a` and `b` reference a value of the same type and same value."
   ]
  },
  {
   "cell_type": "code",
   "execution_count": 24,
   "metadata": {},
   "outputs": [
    {
     "data": {
      "text/plain": [
       "true"
      ]
     },
     "execution_count": 24,
     "metadata": {},
     "output_type": "execute_result"
    }
   ],
   "source": [
    "let a = 'hi';\n",
    "let b = a;\n",
    "a === b; // true"
   ]
  },
  {
   "cell_type": "markdown",
   "metadata": {},
   "source": [
    "# (DONE) Comparison of Primitives with `==`"
   ]
  },
  {
   "cell_type": "markdown",
   "metadata": {},
   "source": [
    "The `==` **non-strict equality operator**, or the **loose equality operator**, works in a similar way to `===` in that it compares operands to see if they have the same value, but it could perform **coercion** if one of its operands is of a different type than the other operand. In this example, we compare two numbers, `7`, and we see that `==` returns `true` because both operands are numbers and they have the same value, `7`. "
   ]
  },
  {
   "cell_type": "code",
   "execution_count": 34,
   "metadata": {},
   "outputs": [
    {
     "data": {
      "text/plain": [
       "true"
      ]
     },
     "execution_count": 34,
     "metadata": {},
     "output_type": "execute_result"
    }
   ],
   "source": [
    "7 == 7; // true"
   ]
  },
  {
   "cell_type": "markdown",
   "metadata": {},
   "source": [
    "In this example, we compare number `7` to string `'7'`. In this case, `==` performs coercion: converting the string `'7'` to number `7` and *then* performing the comparison. Sometimes this operation can lead to unexpected results as it can be unclear which of the types will be converted to a different data type. It is recommended to always use the strict equality operator to avoid this confusion."
   ]
  },
  {
   "cell_type": "code",
   "execution_count": 35,
   "metadata": {},
   "outputs": [
    {
     "data": {
      "text/plain": [
       "true"
      ]
     },
     "execution_count": 35,
     "metadata": {},
     "output_type": "execute_result"
    }
   ],
   "source": [
    "'7' == 7; // true"
   ]
  },
  {
   "cell_type": "markdown",
   "metadata": {},
   "source": [
    "# (DONE) Comparison of Objects with `==`"
   ]
  },
  {
   "cell_type": "markdown",
   "metadata": {},
   "source": [
    "The `==` loose equality operator compares objects in a similar way to `===` in that it checks if its operands are the *same* object, regardless if they have the same values within them. In this example, the `animals` object and the `pets` object both contain the same properties, with each name/value pair having the same values. However, they are still two different objects, thus if we compare these objects either with `==` or `===`, we are returned `false`. "
   ]
  },
  {
   "cell_type": "code",
   "execution_count": 40,
   "metadata": {},
   "outputs": [
    {
     "data": {
      "text/plain": [
       "false"
      ]
     },
     "execution_count": 40,
     "metadata": {},
     "output_type": "execute_result"
    }
   ],
   "source": [
    "let animals = {\n",
    "  cat: 1,\n",
    "  dog: 3,\n",
    "}\n",
    "\n",
    "let pets = {\n",
    "  cat: 1,\n",
    "  dog: 3,\n",
    "}\n",
    "\n",
    "animals == pets; // false"
   ]
  },
  {
   "cell_type": "markdown",
   "metadata": {},
   "source": [
    "If we compare an array to a type that is not an array, `==` will implicitly coerce the non-array item into a string. Empty arrays in Javascript when compared to non-array items will be coerced to **empty strings** `''`."
   ]
  },
  {
   "cell_type": "code",
   "execution_count": 19,
   "metadata": {},
   "outputs": [
    {
     "name": "stdout",
     "output_type": "stream",
     "text": [
      "false\n",
      "false\n"
     ]
    }
   ],
   "source": [
    "// Some examples of implicit array coercion:\n",
    "\n",
    "console.log([] == 'a');  // (false) [] -> '' == 'a'\n",
    "console.log([] == true); // (false) [] -> '' == true\n",
    "\n",
    "// Empty strings '' in JS are falsey in nature."
   ]
  },
  {
   "cell_type": "markdown",
   "metadata": {},
   "source": [
    "# Variable Scope"
   ]
  },
  {
   "cell_type": "markdown",
   "metadata": {},
   "source": [
    "**Variable scope** determines the accessibility of variables in a program. A variable's scope depends on where it is declared in a program. Javascript has global scope, function scope, block scope, and lexical scope."
   ]
  },
  {
   "cell_type": "markdown",
   "metadata": {},
   "source": [
    "**Global scope** is a single scope that contains code that does not exist within a function or a block. Globally scoped variables are available everywhere in a program, even within nested functions or blocks. In this example, we declare a global variable with `let` called `shoe` and set it to reference a string with a vlaue of `Converse`. Using `console.log()`, we pass in `shoe` it as an argument and log its value to the console, `Converse`. This code example shows a variable that is declared and initialized the in the global scope because it is outside of any function or block."
   ]
  },
  {
   "cell_type": "code",
   "execution_count": 22,
   "metadata": {},
   "outputs": [
    {
     "name": "stdout",
     "output_type": "stream",
     "text": [
      "Converse\n"
     ]
    }
   ],
   "source": [
    "let shoe = 'Converse';\n",
    "console.log(shoe); // Converse"
   ]
  },
  {
   "cell_type": "markdown",
   "metadata": {},
   "source": [
    "**Local scope** is created by blocks or functions. Variables that are declared in this scope are not accessible outside of the block or function. These variables are in a scope that is entirely self-contained with respect to the function or block. Global variables or variables declared in a surrounding scope are available to the local scope, but not vice versa."
   ]
  },
  {
   "cell_type": "markdown",
   "metadata": {},
   "source": [
    "**Function scope** is scope that local to a function definition. Any variables that are declared within a function definition have function scope. These variables are in a local scope to the function and cannot be accessed outside of the function definition. Variables declared in the global scope or surrounding scope are accessible within the local scope of a function definition, but variables declared in an inner function scope cannot be accessed outside of the function definition. Global variables are accessible within nested functions and blocks because they are available everywhere in a program."
   ]
  },
  {
   "cell_type": "markdown",
   "metadata": {},
   "source": [
    "In this example, we declare a **global** variable `greeting` and set it to reference a string with a value of `Howdy!`. From `lines 3-5` we define a function declaration called `sayGreeting()`. A block is defined from `lines 3-5`, within which a new inner function scope is created. In this inner scope, we invoke `console.log()` and pass in global variable `greeting` to it as an argument to log its value to the console, which is `Howdy!`. Invoking the `sayGreeting()` function on `line 7` logs `Howdy!` to the screen and returns `undefined`. This code example demonstrates that global variables are accessible to an inner scope created by a block. "
   ]
  },
  {
   "cell_type": "code",
   "execution_count": null,
   "metadata": {},
   "outputs": [],
   "source": [
    "let greeting = 'Howdy!';\n",
    "\n",
    "function sayGreeting() {\n",
    "  console.log(greeting);\n",
    "}\n",
    "\n",
    "sayGreeting(); // Howdy!"
   ]
  },
  {
   "cell_type": "markdown",
   "metadata": {},
   "source": [
    "**Block scope** is created when you declare a variable with either `let` or `const` keywords. `Switch` statements, `if/else if/else if/else` statements, `do...while`, `while`, and `for` are all examples of blocks. Blocks typically are created or defined with `{}` curly braces surrounding a set of expressions or statements."
   ]
  },
  {
   "cell_type": "markdown",
   "metadata": {},
   "source": [
    "In this example, the `if` statement from `lines 1-3` and the curly braces `{}` define a block, therefore creating an inner block scope. The `if` statement will evaluate the code in between the parentheses `(4 === 4)` and depending on what this expression returns, the code inside the block will execute. `4 === 4` evaluates to `true`, so `console.log('4 equals 4');` inside the block will be executed. This logs `4 equals 4` to the console and returns `undefined`."
   ]
  },
  {
   "cell_type": "code",
   "execution_count": 4,
   "metadata": {},
   "outputs": [
    {
     "name": "stdout",
     "output_type": "stream",
     "text": [
      "4 equals 4\n"
     ]
    }
   ],
   "source": [
    "if (4 === 4) {\n",
    "  console.log('4 equals 4');\n",
    "}"
   ]
  },
  {
   "cell_type": "markdown",
   "metadata": {},
   "source": [
    "# How Variables Interact with Function Definitions"
   ]
  },
  {
   "cell_type": "markdown",
   "metadata": {},
   "source": [
    "Function declaration names are themselves variables. When we declare a function, we are essentially creating a variable with that same name and assigning a function to that variable. We can even assign these variables to other variables in the program. In Javascript, you do not need to define parameters in function declarations or function expressions in order for them to have access to the variables. Variables declared in a global or surrounding scope are available to functions. "
   ]
  },
  {
   "cell_type": "markdown",
   "metadata": {},
   "source": [
    "In this example, the `sayHello()` function declaration returns a string with a value of `Hello friend!`. On `line 5` we pass the `sayHello()` function to the `console.log()` method and log its value, which is `Hello friend!`. On `line 7`, we assign `sayHello()` to the global variable `greet` that we've declared with `let`. So now, the global variable `greet` and the `sayHello()` function both references a function declaration. On `line 9` we invoke `console.log()` and pass in the variable `greet`, which logs the value of `Hello friend!` to the console."
   ]
  },
  {
   "cell_type": "code",
   "execution_count": 7,
   "metadata": {},
   "outputs": [
    {
     "name": "stdout",
     "output_type": "stream",
     "text": [
      "Hello friend!\n",
      "undefined\n",
      "Hello friend!\n",
      "undefined\n",
      "undefined\n",
      "Hello friend!\n",
      "undefined\n"
     ]
    }
   ],
   "source": [
    "function sayHello() {\n",
    "  console.log('Hello friend!');\n",
    "}\n",
    "\n",
    "console.log(sayHello());     // Hello friend!\n",
    "\n",
    "let greet = sayHello();\n",
    "\n",
    "console.log(greet);         // Hello friend!"
   ]
  },
  {
   "cell_type": "markdown",
   "metadata": {},
   "source": [
    "In this example, on `line 1` we declare and initialize a local variable `food` and set it to reference a string with a value of `pizza`. The `favorite_food()` function declaration returns a template string with the value of `My favorite food is ${item}!`. On `line 4` we declare a local variable `item` and initialize it to the string value that `food` is referencing in the global scope, `pizza`. This works because code within a function can access variables in the outer global scope. This allows us to output the value that is referenced by `food` and `item` in a template string. The return value of the `favorite_food` function is `My favorite food is pizza!` The `item` variable is a function-scoped variable, which means that it is in the local scope of the `favorite_food()` function declaration and cannot be accessed outside of the function declaration as we can see on `line 9`."
   ]
  },
  {
   "cell_type": "code",
   "execution_count": 11,
   "metadata": {},
   "outputs": [
    {
     "name": "stdout",
     "output_type": "stream",
     "text": [
      "My favorite food is pizza!\n"
     ]
    },
    {
     "ename": "ReferenceError",
     "evalue": "item is not defined",
     "output_type": "error",
     "traceback": [
      "evalmachine.<anonymous>:9",
      "console.log(item);",
      "            ^",
      "",
      "ReferenceError: item is not defined",
      "    at evalmachine.<anonymous>:9:13",
      "    at Script.runInThisContext (vm.js:122:20)",
      "    at Object.runInThisContext (vm.js:329:38)",
      "    at run ([eval]:1054:15)",
      "    at onRunRequest ([eval]:888:18)",
      "    at onMessage ([eval]:848:13)",
      "    at process.emit (events.js:198:13)",
      "    at emit (internal/child_process.js:832:12)",
      "    at process._tickCallback (internal/process/next_tick.js:63:19)"
     ]
    }
   ],
   "source": [
    "let food = 'pizza';\n",
    "\n",
    "function favorite_food() {\n",
    "  let item = food;\n",
    "  return `My favorite food is ${item}!`;\n",
    "}\n",
    "\n",
    "console.log(favorite_food()); // My favorite food is pizza!\n",
    "console.log(item);\n",
    "// ReferenceError: item is not defined"
   ]
  },
  {
   "cell_type": "markdown",
   "metadata": {},
   "source": [
    "# Hoisting"
   ]
  },
  {
   "cell_type": "markdown",
   "metadata": {},
   "source": [
    "Hoisting is a term that refers to a behavior in Javascript where variables declarations are 'moved' to the top of their current scope of a program in the **creation scope**. It doesn't actually move any code, but it's a way to visualize what happens before code is actually run in the **execution phase**. Variables declared with `let`, `const` and `var` behave differently when it comes to hoisting."
   ]
  },
  {
   "cell_type": "markdown",
   "metadata": {},
   "source": [
    "`var` variables are given an initial value of `undefined` when they are hoisted. If we attempt to access a variable that hasn't been declared or initialized, it will be assigned `undefined`."
   ]
  }
 ],
 "metadata": {
  "kernelspec": {
   "display_name": "Javascript (Node.js)",
   "language": "javascript",
   "name": "javascript"
  },
  "language_info": {
   "file_extension": ".js",
   "mimetype": "application/javascript",
   "name": "javascript",
   "version": "10.19.0"
  }
 },
 "nbformat": 4,
 "nbformat_minor": 4
}
