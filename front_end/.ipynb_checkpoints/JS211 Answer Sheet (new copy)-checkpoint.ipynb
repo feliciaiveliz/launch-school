{
 "cells": [
  {
   "cell_type": "markdown",
   "metadata": {},
   "source": [
    "# (DONE) Assignments & Comparisons"
   ]
  },
  {
   "cell_type": "markdown",
   "metadata": {},
   "source": [
    "A **variable declaration** reserves space in memory for a variable with a particular name. There are `3` differnet ways to declare a variable in Javascript, using `var`, `let` or `const`. `var` variables were more commonly used before `ES6` but can still appear in older programs. `var` variables have **block-scope**, while `let` and `const` variables have `function-scope`. When writing programs, it is recommended to use `let` or `const` when declaring variables. On `line 1`, we **declare** a variable called `a` with keyword `let`. The variable is **initialized** and currently references a value of `undefined`. The `=` is called the assignment, or reassignment operator, depending on how it's used."
   ]
  },
  {
   "cell_type": "code",
   "execution_count": 4,
   "metadata": {},
   "outputs": [
    {
     "name": "stdout",
     "output_type": "stream",
     "text": [
      "undefined\n"
     ]
    }
   ],
   "source": [
    "let a;\n",
    "console.log(a); // undefined"
   ]
  },
  {
   "cell_type": "markdown",
   "metadata": {},
   "source": [
    "In this example, we declare a variable called `x` with keyword `var`. It is also initialized to a value of `undefined` when it is not initialized to a value at the same time as it is being declared."
   ]
  },
  {
   "cell_type": "code",
   "execution_count": 6,
   "metadata": {},
   "outputs": [
    {
     "name": "stdout",
     "output_type": "stream",
     "text": [
      "undefined\n"
     ]
    }
   ],
   "source": [
    "var x;\n",
    "console.log(x); // undefined"
   ]
  },
  {
   "cell_type": "markdown",
   "metadata": {},
   "source": [
    "`const` is a keyword that lets you declare and initialize a constant variable. Constant variables do not change. In this example, we declare and initialize a `const` variable to a value of `7`. `const` variables must be initialized to a value at the same time they are being declared. Otherwise, the program will throw an error: `SyntaxError: Missing initializer in const declaration`."
   ]
  },
  {
   "cell_type": "code",
   "execution_count": 8,
   "metadata": {},
   "outputs": [
    {
     "ename": "SyntaxError",
     "evalue": "Missing initializer in const declaration",
     "output_type": "error",
     "traceback": [
      "evalmachine.<anonymous>:5",
      "const daysOfWeek;",
      "      ^^^^^^^^^^",
      "",
      "SyntaxError: Missing initializer in const declaration",
      "    at new Script (vm.js:83:7)",
      "    at createScript (vm.js:277:10)",
      "    at Object.runInThisContext (vm.js:329:10)",
      "    at run ([eval]:1054:15)",
      "    at onRunRequest ([eval]:888:18)",
      "    at onMessage ([eval]:848:13)",
      "    at process.emit (events.js:198:13)",
      "    at emit (internal/child_process.js:832:12)",
      "    at process._tickCallback (internal/process/next_tick.js:63:19)"
     ]
    }
   ],
   "source": [
    "// const daysOfWeek = 7;\n",
    "// console.log(daysOfWeek); // 7\n",
    "\n",
    "\n",
    "const daysOfWeek;\n",
    "console.log(daysOfWeek); // SyntaxError: Missing initializer in const declaration"
   ]
  },
  {
   "cell_type": "markdown",
   "metadata": {},
   "source": [
    "In this example, `const` is used to declare and initialize a constant variable called `monthsInYear` to a number, `12`. This variable cannot be assigned to any other value."
   ]
  },
  {
   "cell_type": "code",
   "execution_count": 10,
   "metadata": {},
   "outputs": [
    {
     "ename": "SyntaxError",
     "evalue": "Identifier 'monthsInYear' has already been declared",
     "output_type": "error",
     "traceback": [
      "evalmachine.<anonymous>:1",
      "const monthsInYear = 12;",
      "^",
      "",
      "SyntaxError: Identifier 'monthsInYear' has already been declared",
      "    at evalmachine.<anonymous>:1:1",
      "    at Script.runInThisContext (vm.js:122:20)",
      "    at Object.runInThisContext (vm.js:329:38)",
      "    at run ([eval]:1054:15)",
      "    at onRunRequest ([eval]:888:18)",
      "    at onMessage ([eval]:848:13)",
      "    at process.emit (events.js:198:13)",
      "    at emit (internal/child_process.js:832:12)",
      "    at process._tickCallback (internal/process/next_tick.js:63:19)"
     ]
    }
   ],
   "source": [
    "const monthsInYear = 12;\n",
    "console.log(monthsInYear); // 12\n",
    "monthsInYear = 13;\n",
    "console.log(monthsInYear); // SyntaxError: Identifier 'monthsInYear' has already been declared"
   ]
  },
  {
   "cell_type": "markdown",
   "metadata": {},
   "source": [
    "# Variables as Pointers"
   ]
  },
  {
   "cell_type": "markdown",
   "metadata": {},
   "source": [
    "On `line 1` we declare and initialize global variable `x` and set it to a value of `5`. On `line 4` we declare and initialize global variable `y` and set it to reference also the number `5`. Now both variables `x` and `y` reference `5`. On `line 7` we reassign variable `x` to reference the number `9`. `x` previously was pointing to `5` but is now pointing to `9`. Variable `y` still references the number `5` while `x` references `9`. Reassignment merely breaks the binding of a variable to a particular value and rebinds it to another value. It doesn't have an effect on the variables that are also referencing that value. As in the case of `y`, it still references `5`, while `x` was being reassigned to another value."
   ]
  },
  {
   "cell_type": "code",
   "execution_count": 13,
   "metadata": {},
   "outputs": [
    {
     "name": "stdout",
     "output_type": "stream",
     "text": [
      "9\n",
      "5\n"
     ]
    }
   ],
   "source": [
    "let x = 5;\n",
    "let y = x;\n",
    "x = 9;\n",
    "console.log(x); // 9\n",
    "console.log(y); // 5"
   ]
  },
  {
   "cell_type": "markdown",
   "metadata": {},
   "source": [
    "# (DONE) Comparison of Objects with `===` "
   ]
  },
  {
   "cell_type": "markdown",
   "metadata": {},
   "source": [
    "All comparison operators have a return value of one of two boolean values, `true` or `false`. The operator sits between two **operands**, which are the expressions to the left and right of the comparison operator."
   ]
  },
  {
   "cell_type": "markdown",
   "metadata": {},
   "source": [
    "The `===` **strict equality operator**, or the **identity operator**, checks to see if its **object** operands have the same value and are of the same type. In the case of objects, the `===` operator will return `true` if the operands are the same object and if they have the same values. Even if two objects hold the same values, it will not compare the values, only the object references. In this example, variable `a` is declared and initialized to an array object `[1, 2, 3]`. We also declare a variable `b` and initialize it to an array object of `[1, 2, 3]`. On `line 3` we use the `===` strict equality operator to compare `a` and `b` and we see that it returns `false`. Even though `a` and `b` reference array objects of the same values `1`, `2`, `3`, the operator will return `false` because they are not the same objects in memory."
   ]
  },
  {
   "cell_type": "code",
   "execution_count": 16,
   "metadata": {},
   "outputs": [
    {
     "data": {
      "text/plain": [
       "false"
      ]
     },
     "execution_count": 16,
     "metadata": {},
     "output_type": "execute_result"
    }
   ],
   "source": [
    "let a = [1, 2, 3];\n",
    "let b = [1, 2, 3];\n",
    "a === b; // false"
   ]
  },
  {
   "cell_type": "markdown",
   "metadata": {},
   "source": [
    "This time in the second example, we declare and initialize variable `b` and set it to reference the object that `a` is referencing. So now `a` and `b` both reference `[1, 2, 3]`, the same object in memory. This code example returns `true` because `a` and `b` are referencing the same object."
   ]
  },
  {
   "cell_type": "code",
   "execution_count": 19,
   "metadata": {},
   "outputs": [
    {
     "data": {
      "text/plain": [
       "false"
      ]
     },
     "execution_count": 19,
     "metadata": {},
     "output_type": "execute_result"
    }
   ],
   "source": [
    "let a = [1, 2, 3];\n",
    "let b = a;\n",
    "a === b; // true\n",
    "\n",
    "['1', '2', '3'] === ['1', '2', '3']; // false"
   ]
  },
  {
   "cell_type": "markdown",
   "metadata": {},
   "source": [
    "# (DONE) Comparison of Primitives with `===`"
   ]
  },
  {
   "cell_type": "markdown",
   "metadata": {},
   "source": [
    "In this example, we use the `===` operator to compare two **primitive** values. It compares primitives by value, not by references. In this example, variable `a` references a string with a value of `hi`. We then declare and initialize variable `b` to reference a string also with a value of `hi`. We use the `===` operator is used to test for equality and it returns `true` when comparing `a` and `b`. This code demonstrates that when comparing primitive values, the `===` operator compares them by value; only returning `true` if their values are the same and if they are of the same data type, in this case: `string`."
   ]
  },
  {
   "cell_type": "code",
   "execution_count": 22,
   "metadata": {},
   "outputs": [
    {
     "data": {
      "text/plain": [
       "true"
      ]
     },
     "execution_count": 22,
     "metadata": {},
     "output_type": "execute_result"
    }
   ],
   "source": [
    "let a = 'hi';\n",
    "let b = 'hi';\n",
    "a === b; // true"
   ]
  },
  {
   "cell_type": "markdown",
   "metadata": {},
   "source": [
    "In this example, we attempt to use the === strict equality operator while comparing two primitive values of different data types. This code example returns `false`. This is because `===` does not perform type conversion and only compares its operands as they currently are. Strings and numbers are not the same data types, so that is why this code returns false when we compare string '7' and number 7 using `===."
   ]
  },
  {
   "cell_type": "code",
   "execution_count": 24,
   "metadata": {},
   "outputs": [
    {
     "data": {
      "text/plain": [
       "false"
      ]
     },
     "execution_count": 24,
     "metadata": {},
     "output_type": "execute_result"
    }
   ],
   "source": [
    "'7' === 7; // false"
   ]
  },
  {
   "cell_type": "markdown",
   "metadata": {},
   "source": [
    "In this example, we declare and initialize global variable `a` and set it to reference a string with a value of `hi`. On `line 2` we declare global variable `b` and set it to reference `a`, that is, it is now referencing the value of `a`. The `===` operator is used on `line 3` to compare `a` and `b` and it returns `true`. This is because `a` and `b` reference a value of the same type and same value."
   ]
  },
  {
   "cell_type": "code",
   "execution_count": 27,
   "metadata": {},
   "outputs": [
    {
     "data": {
      "text/plain": [
       "true"
      ]
     },
     "execution_count": 27,
     "metadata": {},
     "output_type": "execute_result"
    }
   ],
   "source": [
    "let a = 'hi';\n",
    "let b = a;\n",
    "a === b; // true"
   ]
  },
  {
   "cell_type": "markdown",
   "metadata": {},
   "source": [
    "# (DONE) Comparison of Primitives with `==`"
   ]
  },
  {
   "cell_type": "markdown",
   "metadata": {},
   "source": [
    "The `==` **non-strict equality operator**, or the **loose equality operator**, works in a similar way to `===` in that it compares operands to see if they have the same value, but it could perform **coercion** if one of its operands is of a different type than the other operand. In this example, we compare two numbers, `7`, and we see that `==` returns `true` because both operands are numbers and they have the same value, `7`."
   ]
  },
  {
   "cell_type": "code",
   "execution_count": 29,
   "metadata": {},
   "outputs": [
    {
     "data": {
      "text/plain": [
       "true"
      ]
     },
     "execution_count": 29,
     "metadata": {},
     "output_type": "execute_result"
    }
   ],
   "source": [
    "7 == 7; // true"
   ]
  },
  {
   "cell_type": "markdown",
   "metadata": {},
   "source": [
    "In this example, we compare number `7` to string `'7'`. In this case, `==` performs coercion: converting the string `'7'` to number `7` and *then* performing the comparison. Sometimes this operation can lead to unexpected results as it can be unclear which of the types will be converted to a different data type. It is recommended to always use the strict equality operator to avoid this confusion."
   ]
  },
  {
   "cell_type": "code",
   "execution_count": 31,
   "metadata": {},
   "outputs": [
    {
     "data": {
      "text/plain": [
       "true"
      ]
     },
     "execution_count": 31,
     "metadata": {},
     "output_type": "execute_result"
    }
   ],
   "source": [
    "'7' == 7; // true"
   ]
  },
  {
   "cell_type": "markdown",
   "metadata": {},
   "source": [
    "# (DONE) Comparison of Objects with `==`"
   ]
  },
  {
   "cell_type": "markdown",
   "metadata": {},
   "source": [
    "The `==` loose equality operator compares objects in a similar way to `===` in that it checks if its operands are the *same* object, regardless if they have the same values within them. In this example, the `animals` object and the `pets` object both contain the same properties, with each name/value pair having the same values. However, they are still two different objects, thus if we compare these objects either with `==` or `===`, we are returned `false`.\n"
   ]
  },
  {
   "cell_type": "code",
   "execution_count": 34,
   "metadata": {},
   "outputs": [
    {
     "data": {
      "text/plain": [
       "false"
      ]
     },
     "execution_count": 34,
     "metadata": {},
     "output_type": "execute_result"
    }
   ],
   "source": [
    "let animals = {\n",
    "  cat: 1,\n",
    "  dog: 3,\n",
    "}\n",
    "\n",
    "let pets = {\n",
    "  cat: 1,\n",
    "  dog: 3,\n",
    "}\n",
    "\n",
    "animals == pets; // false\n"
   ]
  },
  {
   "cell_type": "markdown",
   "metadata": {},
   "source": [
    "If we compare an array to a type that is not an array, `==` will implicitly coerce the non-array item into a string. Empty arrays in Javascript when compared to non-array items will be coerced to **empty strings** `''`."
   ]
  },
  {
   "cell_type": "code",
   "execution_count": 36,
   "metadata": {},
   "outputs": [
    {
     "name": "stdout",
     "output_type": "stream",
     "text": [
      "false\n",
      "false\n"
     ]
    }
   ],
   "source": [
    "// Some examples of implicit array coercion:\n",
    "\n",
    "console.log([] == 'a');  // (false) [] -> '' == 'a'\n",
    "console.log([] == true); // (false) [] -> '' == true\n",
    "\n",
    "// Empty strings '' in JS are falsey in nature."
   ]
  },
  {
   "cell_type": "markdown",
   "metadata": {},
   "source": [
    "# Variable Scope"
   ]
  },
  {
   "cell_type": "markdown",
   "metadata": {},
   "source": [
    "Variable scope determines the accessibility of variables in a program. A variable's scope depends on where the variable is declared in a program. Javascript has global, function, block, local and function scope."
   ]
  },
  {
   "cell_type": "markdown",
   "metadata": {},
   "source": [
    "**Global** scope is a single scope that contains code that does not exist within a function or a block. Globally scoped variables are available everywhere in a program, even within nested functions or blocks. In this example, we declare a global variable with `let` called `shoe` and set it to reference a string with a vlaue of `Converse`. Using `console.log()`, we pass in `shoe` it as an argument and log its value to the console, `Converse`. This code example shows a variable that is declared and initialized the in the global scope because it is outside of any function or block."
   ]
  },
  {
   "cell_type": "code",
   "execution_count": 39,
   "metadata": {},
   "outputs": [
    {
     "name": "stdout",
     "output_type": "stream",
     "text": [
      "Converse\n"
     ]
    }
   ],
   "source": [
    "let shoe = 'Converse';\n",
    "console.log(shoe); // Converse"
   ]
  },
  {
   "cell_type": "markdown",
   "metadata": {},
   "source": [
    "**Local scope** refers to scope that is created by **blocks or functions**. Variables that are declared in this scope are not accessible outside of the block or function. These variables are in a scope that is entirely self-contained with respect to the function or block."
   ]
  },
  {
   "cell_type": "markdown",
   "metadata": {},
   "source": [
    "**Function** scope is scope that local to a function definition. Any variables that are declared within a function definition have function scope. These variables are in a local scope to the function and cannot be accessed outside of the function definition. Variables declared in the global scope or surrounding scope are accessible within the local scope of a function definition, but variables declared in an inner function scope cannot be accessed outside of the function definition. Global variables are accessible within nested functions and blocks because they are available everywhere in a program."
   ]
  },
  {
   "cell_type": "markdown",
   "metadata": {},
   "source": [
    "In this example, we declare a **global** variable `greeting` and set it to reference a string with a value of `Howdy!`. From `lines 3-5` we define a function declaration called `sayGreeting()`. A block is defined from `lines 3-5`, within which a new inner function scope is created. In this inner scope, we invoke `console.log()` and pass in global variable `greeting` to it as an argument to log its value to the console, which is `Howdy!`. Invoking the `sayGreeting()` function on `line 7` logs `Howdy!` to the screen and returns `undefined`. This code example demonstrates that global variables are accessible to an inner scope created by a function block.\n"
   ]
  },
  {
   "cell_type": "code",
   "execution_count": 42,
   "metadata": {},
   "outputs": [
    {
     "name": "stdout",
     "output_type": "stream",
     "text": [
      "Howdy!\n"
     ]
    }
   ],
   "source": [
    "let greeting = 'Howdy!';\n",
    "\n",
    "function sayGreeting() {\n",
    "  console.log(greeting);\n",
    "}\n",
    "\n",
    "sayGreeting(); // Howdy!"
   ]
  },
  {
   "cell_type": "markdown",
   "metadata": {},
   "source": [
    "**Lexical scope**, also called **static scope**, looks to the source code to determine the scope of a variable. This scope is used by Javascript to determine where to find variables. Functions create a scope even if it is never executed in a program. Javascript looks for variables bottom to top, from local scope to global scope."
   ]
  },
  {
   "cell_type": "markdown",
   "metadata": {},
   "source": [
    "**Block scope** is created when you declare a variable with either the `let` or `const` keywords. `Switch` statements, `if/else if/else if/else` statements, `do...while`, `while`, and `for` with code between curly braces `{}` all indicate the presence of a block and therefore a block scope. Blocks typically are created by curly braces surrounding a set of expressions or statements."
   ]
  },
  {
   "cell_type": "markdown",
   "metadata": {},
   "source": [
    "In this example, the `if` conditional statement evaluates the expression in the parentheses `7 === 7` and depending on the return value of the expression, the code within the block will execute, `console.log(7 equals 7);`. Since `7 === 7` evaluates to `true`, the block is executed, thus `7 equals 7` is logged to the console and `undefined` is returned."
   ]
  },
  {
   "cell_type": "code",
   "execution_count": 43,
   "metadata": {},
   "outputs": [
    {
     "name": "stdout",
     "output_type": "stream",
     "text": [
      "7 equals 7\n"
     ]
    }
   ],
   "source": [
    "if (7 === 7) {\n",
    "  console.log('7 equals 7');\n",
    "}"
   ]
  },
  {
   "cell_type": "markdown",
   "metadata": {},
   "source": [
    "# How Variables Interact with Function Definitions"
   ]
  },
  {
   "cell_type": "markdown",
   "metadata": {},
   "source": [
    "In Javascript, a variable declared in the global scope or outer scope is accessible to an inner scope, even if that scope is nested. Parameters aren't required if a variable in the outer scope is needed within a function or block.\n"
   ]
  },
  {
   "cell_type": "markdown",
   "metadata": {},
   "source": [
    "# Function Scope\n"
   ]
  },
  {
   "cell_type": "markdown",
   "metadata": {},
   "source": [
    "**Function scope** is local to a function. Any variables declared within a function have function scope. These variables cannot be accessed from outside of the function. However, variables declared in the global scope or outer surrounding scope are accessible within the function declaration or expression.\n"
   ]
  },
  {
   "cell_type": "markdown",
   "metadata": {},
   "source": [
    "In this example, on `line 1` we declare and initialize a global variable called `food` and set it to reference a string with a value of `pizza`. The `favorite_food()` function declaration returns a template string with the value of `My favorite food is ${item}!`. On `line 4` we declare a local variable `item` and initialize it to the string value that `food` is referencing in the global scope, `pizza`. This allows us to log the value of that is referenced by `food` and `item` within a template string. The return value of `favorite_food()` function declaration is `My favorite food is pizza!`. The `item` local variable has function scope, which means that it is in the local scope of the `favorite_food()` function declaration and cannot be accessed outside of the function as we can see by the error message returned on `line 9`.\n"
   ]
  },
  {
   "cell_type": "code",
   "execution_count": 46,
   "metadata": {},
   "outputs": [
    {
     "name": "stdout",
     "output_type": "stream",
     "text": [
      "My favorite food is pizza!\n"
     ]
    },
    {
     "ename": "ReferenceError",
     "evalue": "item is not defined",
     "output_type": "error",
     "traceback": [
      "evalmachine.<anonymous>:9",
      "console.log(item); // ReferenceError: item is not defined",
      "            ^",
      "",
      "ReferenceError: item is not defined",
      "    at evalmachine.<anonymous>:9:13",
      "    at Script.runInThisContext (vm.js:122:20)",
      "    at Object.runInThisContext (vm.js:329:38)",
      "    at run ([eval]:1054:15)",
      "    at onRunRequest ([eval]:888:18)",
      "    at onMessage ([eval]:848:13)",
      "    at process.emit (events.js:198:13)",
      "    at emit (internal/child_process.js:832:12)",
      "    at process._tickCallback (internal/process/next_tick.js:63:19)"
     ]
    }
   ],
   "source": [
    "let food = 'pizza';\n",
    "\n",
    "function favorite_food() {\n",
    "  let item = food;\n",
    "  return `My favorite food is ${item}!`;\n",
    "}\n",
    "\n",
    "console.log(favorite_food()); // My favorite food is pizza!\n",
    "console.log(item); // ReferenceError: item is not defined"
   ]
  },
  {
   "cell_type": "markdown",
   "metadata": {},
   "source": [
    "# (DONE) Hoisting"
   ]
  },
  {
   "cell_type": "markdown",
   "metadata": {},
   "source": [
    "Hoisting is a term that refers to a behavior in Javascript where variable declarations are 'moved' to the top of the current scope of a program in the **creation phase**. It doesn't actually move any code, but it's a way to visualize what happens before code is actually executed in the **execution phase**. Variables declared with `let`, `const` and `var` behave differently when it comes to hoisting.\n"
   ]
  },
  {
   "cell_type": "markdown",
   "metadata": {},
   "source": [
    "Variables declared with `var` are given an initial value of `undefined` when they are hoisted to the top of their respective scope. If we attempt to access a `var` variable before we initialize it to a value, the program will return `undefined` until we execute the line of code that initializes a value to the `var` variable."
   ]
  },
  {
   "cell_type": "markdown",
   "metadata": {},
   "source": [
    "In this example, we pass in global variable `a` to `console.log()` as an argument to log its value to the console. On `line 2` is when we actually declare and initialize global variable `a` and set it to reference the number `7`. This code example logs `undefined` and returns `undefined`. When `var` variables are hoisted, only the varaible declaration part of the statement is hoisted to the top of its scope, not the initialization expression. This is why we see the logged output of `undefined`. Example 2 demonstrates what the interpreter is doing when it is hoisting a `var` variable. The `var` variable `a` is not initialized to a value until after `console.log(a);` is run."
   ]
  },
  {
   "cell_type": "code",
   "execution_count": 49,
   "metadata": {},
   "outputs": [
    {
     "name": "stdout",
     "output_type": "stream",
     "text": [
      "undefined\n",
      "7\n",
      "7\n"
     ]
    }
   ],
   "source": [
    "// **Example 1**\n",
    "\n",
    "console.log(a); // undefined\n",
    "var a = 7;\n",
    "\n",
    "// **Example 2**\n",
    "\n",
    "var a;\n",
    "console.log(a); // logs undefined\n",
    "// returns 'undefined'\n",
    "a = 7;\n",
    "console.log(a); // 7\n",
    "// returns 'undefined'"
   ]
  },
  {
   "cell_type": "markdown",
   "metadata": {},
   "source": [
    "**let**"
   ]
  },
  {
   "cell_type": "markdown",
   "metadata": {},
   "source": [
    "When variables declared with `let` are hoisted, they are not given an initial value at all. They are not `undefined`, but they are simply said to have no value. These variables are 'unset' and are in the **temporal dead zone**. An error will be thrown if an attempt is made to access a `let` variable before it has been initialized to a value."
   ]
  },
  {
   "cell_type": "markdown",
   "metadata": {},
   "source": [
    "In this example, we pass in a global variable `a` to `console.log()` as an argument and attempt to log its value to the console. This raises a `ReferenceError` because global variable `a` is unset, or it doesn't have a value."
   ]
  },
  {
   "cell_type": "code",
   "execution_count": 53,
   "metadata": {},
   "outputs": [
    {
     "ename": "ReferenceError",
     "evalue": "a is not defined",
     "output_type": "error",
     "traceback": [
      "evalmachine.<anonymous>:1",
      "console.log(a); // ReferenceError: a is not defined",
      "            ^",
      "",
      "ReferenceError: a is not defined",
      "    at evalmachine.<anonymous>:1:13",
      "    at Script.runInThisContext (vm.js:122:20)",
      "    at Object.runInThisContext (vm.js:329:38)",
      "    at run ([eval]:1054:15)",
      "    at onRunRequest ([eval]:888:18)",
      "    at onMessage ([eval]:848:13)",
      "    at process.emit (events.js:198:13)",
      "    at emit (internal/child_process.js:832:12)",
      "    at process._tickCallback (internal/process/next_tick.js:63:19)"
     ]
    }
   ],
   "source": [
    "console.log(a); // ReferenceError: a is not defined\n",
    "let a = 5;\n",
    "\n",
    "// let a;\n",
    "// console.log(a); // undefined\n",
    "// a = 5;"
   ]
  },
  {
   "cell_type": "markdown",
   "metadata": {},
   "source": [
    "**const**"
   ]
  },
  {
   "cell_type": "markdown",
   "metadata": {},
   "source": [
    "Variables declared with `const` are also not given an initial value when they are hoisted, similar to `let` variables. However, `const` variables must be declared and initialized at the same time, otherwise an error will be thrown that the `const` variable is missing an initializer statement. This is because `const` variables are meant to be constant in nature: they are not meant to be reassigned to a different value once they've been declared and initialized to an initial value.\n"
   ]
  },
  {
   "cell_type": "markdown",
   "metadata": {},
   "source": [
    "In this example, we declare a `const` variable `s` but do not initialize it to a value. On `line 2` we attempt to log the variable `s`'s value to the console, but an error is thrown: `Missing initializer in const declaration`. On `line 3` after `console.log()`, we attempt to assign a number value of `9` to `s`, but the program never reaches this line of code because the error message stopped the program.\n"
   ]
  },
  {
   "cell_type": "code",
   "execution_count": 54,
   "metadata": {},
   "outputs": [
    {
     "ename": "SyntaxError",
     "evalue": "Missing initializer in const declaration",
     "output_type": "error",
     "traceback": [
      "evalmachine.<anonymous>:1",
      "const s;",
      "      ^",
      "",
      "SyntaxError: Missing initializer in const declaration",
      "    at new Script (vm.js:83:7)",
      "    at createScript (vm.js:277:10)",
      "    at Object.runInThisContext (vm.js:329:10)",
      "    at run ([eval]:1054:15)",
      "    at onRunRequest ([eval]:888:18)",
      "    at onMessage ([eval]:848:13)",
      "    at process.emit (events.js:198:13)",
      "    at emit (internal/child_process.js:832:12)",
      "    at process._tickCallback (internal/process/next_tick.js:63:19)"
     ]
    }
   ],
   "source": [
    "const s;\n",
    "console.log(s); // SyntaxError: Missing initializer in const declaration\n",
    "\n",
    "s = 9;\n",
    "console.log(s); // This line is not executed"
   ]
  },
  {
   "cell_type": "markdown",
   "metadata": {},
   "source": [
    "In this example, we declare and initialize `const` variable `s` to a value of number `9` on the same line. Using `console.log()`, we log its value to the console, `9`. This does not throw an error.\n"
   ]
  },
  {
   "cell_type": "code",
   "execution_count": 55,
   "metadata": {},
   "outputs": [
    {
     "name": "stdout",
     "output_type": "stream",
     "text": [
      "9\n"
     ]
    }
   ],
   "source": [
    "const s = 9;\n",
    "console.log(s); // 9"
   ]
  },
  {
   "cell_type": "markdown",
   "metadata": {},
   "source": [
    "# (DONE) Primitive Values, Types & Type Conversions / Coercions"
   ]
  },
  {
   "cell_type": "markdown",
   "metadata": {},
   "source": [
    "There are `8` **primitive** data types in Javascript: `String`, `Number`, `Boolean`, `Undefined`, `null`, `symbols`, and `bigInts` and `NaN`. Primitive data types are types that Javascript represents at the lowest level of implementation of the language. You cannot modify these data types in any way, as they are **immutable**. Operations such as reassignment appear to modify these values but in reality Javascript is just reassigning new values to these variables without modifying the actual original value. You cannot call methods on primitive data types; the data type's object counterpart creates a wrapper around the value and then the method is called on that wrapper object. A new object is returned by the method, and the original value is left unchanged.\n"
   ]
  },
  {
   "cell_type": "markdown",
   "metadata": {},
   "source": [
    "In this example, we call a string method `slice()` on a string `Felicia` that is being reference by global variable `name`. Using `console.log()`, we log the value of calling `slice()` on `Felicia` and passing in two arguments to `slice()`, the first argument being the index to start the slice and the second argument to indicate the end of the slice. `Line 2` logs `el` to the console and returns `undefined`. Using `console.log()` again on `line 3`, we pass in the `name` variable to it as an argument to log its value, which is `Felicia`. This demonstrates that the original string value that is saved to `name` is preserved, and unmodified. The `slice()` method returns a *new* string and only performs its operation on a new string object.\n"
   ]
  },
  {
   "cell_type": "code",
   "execution_count": 56,
   "metadata": {},
   "outputs": [
    {
     "name": "stdout",
     "output_type": "stream",
     "text": [
      "el\n",
      "Felicia\n"
     ]
    }
   ],
   "source": [
    "let name = 'Felicia';\n",
    "console.log(name.slice(1, 3)); // el\n",
    "console.log(name); // Felicia"
   ]
  },
  {
   "cell_type": "markdown",
   "metadata": {},
   "source": [
    "In this example, we call the `split()` method on the string value `Felicia` that is being referenced by the global variable name. We can see that the original value of the string `Felicia` is unchanged, and that Javascript implicitly coerces the primitive string value to its respective object, `String`. `split()` then operates on this new String object of the same value, Felicia, returning an array of characters split on the delimiter: `['F', 'e', 'l', 'i', 'c', 'i', 'a']`. On `line 4` we log the value of name and we can see that the original string value indeed has not been modified in any way.\n"
   ]
  },
  {
   "cell_type": "code",
   "execution_count": 58,
   "metadata": {},
   "outputs": [
    {
     "name": "stdout",
     "output_type": "stream",
     "text": [
      "[ 'F', 'e', 'l', 'i', 'c', 'i', 'a' ]\n",
      "Felicia\n"
     ]
    }
   ],
   "source": [
    "let name = 'Felicia';\n",
    "\n",
    "console.log(name.split('')); // [ 'F', 'e', 'l', 'i', 'c', 'i', 'a' ]\n",
    "console.log(name); // Felicia"
   ]
  },
  {
   "cell_type": "markdown",
   "metadata": {},
   "source": [
    "\n",
    "**Type Conversions & Coercions**\n"
   ]
  },
  {
   "cell_type": "markdown",
   "metadata": {},
   "source": [
    "Javascript uses two types of **coercion**, **implicit-type coercion** and **explicit-type coercion**.\n",
    "Implicit coercion occurs when Javascript is attempting to compare two values that are not the same data type. For example, when concatenating two values, it needs two strings as its operands. If one of the operands is a **number**, Javascript will implicitly coerce that number to a **string** and *then* perform concatenation."
   ]
  },
  {
   "cell_type": "markdown",
   "metadata": {},
   "source": [
    "This code example demonstrates implicit type coercion. Javascript uses the `+` concatenation operator to combine two strings together. In this case, we want to combine string `'3'` and number `3`. Instead of raising an error that we are attempting to combine two different values of data types, Javascript implicitly converts the number `3` to a string `'3'`. This code returns the string `'33'`.\n"
   ]
  },
  {
   "cell_type": "code",
   "execution_count": 60,
   "metadata": {},
   "outputs": [
    {
     "data": {
      "text/plain": [
       "'33'"
      ]
     },
     "execution_count": 60,
     "metadata": {},
     "output_type": "execute_result"
    }
   ],
   "source": [
    "'3' + 3 // '33'"
   ]
  },
  {
   "cell_type": "markdown",
   "metadata": {},
   "source": [
    "When it comes to the other arithmetic operators, `-`, `*`, and `/`, Javascript will convert one of its operands (the one that is not a number), into a number and perform the mathematical operation.\n"
   ]
  },
  {
   "cell_type": "markdown",
   "metadata": {},
   "source": [
    "In this example, we declare and initialize global variable `x` and set it to a value of string `'4'`. On `line 2` we declare and initialize variable `y` and set it to a value of number `2`. On `line 3` we use `console.log()` and pass in `x - y` to it as an argument to log its value of number `2` to the console. We see that Javascript *temporarily* coerces the string `4` to number `4` to carry out its operation. Using the `typeof` operator on `lines 4-5`, we see that indeed the data types of the variables `x` and `y` have not changed: `x` still references a string and `y` still references a number.\n"
   ]
  },
  {
   "cell_type": "code",
   "execution_count": 61,
   "metadata": {},
   "outputs": [
    {
     "name": "stdout",
     "output_type": "stream",
     "text": [
      "2\n",
      "string\n",
      "number\n"
     ]
    }
   ],
   "source": [
    "let x = '4';\n",
    "let y = 2;\n",
    "console.log(x - y);    // 2\n",
    "console.log(typeof x); // string\n",
    "console.log(typeof y); // number"
   ]
  },
  {
   "cell_type": "markdown",
   "metadata": {},
   "source": [
    "**Explicit Type Coercion**"
   ]
  },
  {
   "cell_type": "markdown",
   "metadata": {},
   "source": [
    "Explicit type coercion lets you be in control when it comes to which values you want to coerce into different values in your program. Implicit type coercion is when the engine performs coercion without a programmer deciding what to coerce.\n"
   ]
  },
  {
   "cell_type": "markdown",
   "metadata": {},
   "source": [
    "In this example, we want to mathematically add two numbers, but they are actually string data types. Using the `Number()` function, we can convert the string to a number as long as it has a valid number value and then perform the addition. We pass in string `8` to `Number()` as an argument and it returns number `8`. We then pass in string `7` to `Number()` as an argument and it returns number `7`. Now that both `8` and `7` are numbers, we can add them together. This code returns number `15`.\n"
   ]
  },
  {
   "cell_type": "code",
   "execution_count": 62,
   "metadata": {},
   "outputs": [
    {
     "data": {
      "text/plain": [
       "15"
      ]
     },
     "execution_count": 62,
     "metadata": {},
     "output_type": "execute_result"
    }
   ],
   "source": [
    "Number('8') + Number('7')\n"
   ]
  },
  {
   "cell_type": "markdown",
   "metadata": {},
   "source": [
    "In order to convert numbers to strings, we can use the `String()` function. `String()` takes a number argument and converts it to a string. We could use this return value to perform concatenation since the return value of `String()` is always a string data type.\n"
   ]
  },
  {
   "cell_type": "markdown",
   "metadata": {},
   "source": [
    "In these two example, we use `String()` to convert the number `3` to string `3`. This allows us to concatenate the strings and return `33`.\n"
   ]
  },
  {
   "cell_type": "code",
   "execution_count": 63,
   "metadata": {},
   "outputs": [
    {
     "data": {
      "text/plain": [
       "'33'"
      ]
     },
     "execution_count": 63,
     "metadata": {},
     "output_type": "execute_result"
    }
   ],
   "source": [
    "String(3) + String(3) // '33'\n"
   ]
  },
  {
   "cell_type": "code",
   "execution_count": 64,
   "metadata": {},
   "outputs": [
    {
     "data": {
      "text/plain": [
       "'3'"
      ]
     },
     "execution_count": 64,
     "metadata": {},
     "output_type": "execute_result"
    }
   ],
   "source": [
    "String(3) // string '3'\n"
   ]
  },
  {
   "cell_type": "markdown",
   "metadata": {},
   "source": [
    "Javascript also has the `parseInt()` function that converts a string with a numeric value to a number. It can take a number as an argument that can optionally start with either `+` or `-`. It converts the string to a number, but it if encounters a character that is invalid, it stops and returns the whole number.\n"
   ]
  },
  {
   "cell_type": "markdown",
   "metadata": {},
   "source": [
    "In this example, we want to convert string `123abc` using `parseInt()`. We pass `123abc` to `parseInt()` as an argument and using `console.log()`, we see that number `123` is logged to the console. On `line 2`, we declare a `result` variable and set it to reference `parseInt('123abc')`. On `line 3` using `console.log()` we pass in `typeof result` to it an argument to log its value, which returns `number`. This demonstrates that `parseInt()` returns a number that was converted from a string. Any non-numeric characters (excluding `+` and `-`) are disgarded.\n"
   ]
  },
  {
   "cell_type": "code",
   "execution_count": 66,
   "metadata": {},
   "outputs": [
    {
     "name": "stdout",
     "output_type": "stream",
     "text": [
      "123\n",
      "number\n"
     ]
    }
   ],
   "source": [
    "console.log(parseInt('123abc')); // 123\n",
    "let result = parseInt('123abc');\n",
    "console.log(typeof result); // number"
   ]
  },
  {
   "cell_type": "markdown",
   "metadata": {},
   "source": [
    "# Object Properties & Mutations"
   ]
  },
  {
   "cell_type": "markdown",
   "metadata": {},
   "source": [
    "Objects in Javascript contain data and behavior. They use curly brace syntax `{}` to contain **properties**. Properties are key(or name)/value pairs that represent attributes of an instance of an object??? The keys are named items and the values are the attributes for the object. These objects can have multiple values or properties stored within them. Objects in Javascript are **mutable**, which means that they can be modified in place. To add a new property to an object, we can the dot `.` notation."
   ]
  },
  {
   "cell_type": "markdown",
   "metadata": {},
   "source": [
    "In this example, we use `.` dot notation to add a new property to an object, `plays`. We declare and initialize `plays` and set it to reference an empty object `{}`. Using `.` we add a new name/value pair: `title: Hamlet` to the `plays` object. We invoke `console.log()` on `line 3` to log the value of the newly updated object and we indeed see that the object has a new property added to it.\n"
   ]
  },
  {
   "cell_type": "code",
   "execution_count": 69,
   "metadata": {},
   "outputs": [
    {
     "name": "stdout",
     "output_type": "stream",
     "text": [
      "{ title: 'Hamlet' }\n"
     ]
    }
   ],
   "source": [
    "let plays = {};\n",
    "plays.title = 'Hamlet';\n",
    "console.log(plays); // { title: 'Hamlet' }"
   ]
  },
  {
   "cell_type": "markdown",
   "metadata": {},
   "source": [
    "To update the value of a property we can use either `.` dot notation or `[]` bracket notation. In this example, we previously assigned a value of `Hamlet` to the name `title`, but using the `.` dot notation we update the value and now set it to reference `Othello`, on line `5`. On `line 6` we log the newly updated object and we see that the value of the property is now `Othello`.\n"
   ]
  },
  {
   "cell_type": "code",
   "execution_count": 71,
   "metadata": {},
   "outputs": [
    {
     "name": "stdout",
     "output_type": "stream",
     "text": [
      "{ title: 'Hamlet' }\n",
      "{ title: 'Othello' }\n"
     ]
    }
   ],
   "source": [
    "\n",
    "let plays = {};\n",
    "plays.title = 'Hamlet';\n",
    "console.log(plays); // { title: 'Hamlet' }\n",
    "\n",
    "plays.title = 'Othello';\n",
    "console.log(plays); // { title: 'Othello' }"
   ]
  },
  {
   "cell_type": "markdown",
   "metadata": {},
   "source": [
    "In this example, we declare a custom `pet` object that contains `3` pieces of data within it. Each name/value pair represents a pet type and a name for the pet. All keys in Javascript objects are represented as strings and values are any valid expressions. We can acess the value of a pet's name using `.` dot notation or `[]` bracket notation. using `console.log()` on lines `7-9`, we pass in `pets.dog`, `pets.cat` and `pets['chicken']` respectively. This logs `Neptune`, `Lucifer` and `Peep` to the console and returns `undefined`. Using either dot notation or bracket notation we see that we can access the value of a name in an object.\n"
   ]
  },
  {
   "cell_type": "code",
   "execution_count": 72,
   "metadata": {},
   "outputs": [
    {
     "name": "stdout",
     "output_type": "stream",
     "text": [
      "Neptune\n",
      "Lucifer\n",
      "Peep\n"
     ]
    }
   ],
   "source": [
    "let pets = {\n",
    "  dog: 'Neptune',\n",
    "  cat: 'Lucifer',\n",
    "  chicken: 'Peep',\n",
    "};\n",
    "\n",
    "console.log(pets.dog);        // Neptune\n",
    "console.log(pets.cat);        // Lucifer\n",
    "console.log(pets['chicken']); // Peep\n"
   ]
  },
  {
   "cell_type": "markdown",
   "metadata": {},
   "source": [
    "# (DONE) Understand the differences between loose and strict equality"
   ]
  },
  {
   "cell_type": "markdown",
   "metadata": {},
   "source": [
    "`===` is the strict equality operator, or the identity operator. `==` is the non-strict equality operator, or the loose equality operator. `==` coerces one of its operands to the other's type before comparison if they are of different types. The difference between loose and strict equality is that loose equality checks to see if both of its operands have the same value, not if they are the same object, which is how the strict equality operator compares objects. For the strict equality operator, it will only return true if both of its operands are the same type and if they have the same value. It is recommended to use `===` mostly if possible to avoid the confusion of conversion with `==`.\n"
   ]
  },
  {
   "cell_type": "markdown",
   "metadata": {},
   "source": [
    "`==` is the non-strict equality operator, or the loose equality operator. `==` coerces one of its operands to the other's type before comparison if they are of different types.\n"
   ]
  },
  {
   "cell_type": "code",
   "execution_count": 73,
   "metadata": {},
   "outputs": [
    {
     "data": {
      "text/plain": [
       "false"
      ]
     },
     "execution_count": 73,
     "metadata": {},
     "output_type": "execute_result"
    }
   ],
   "source": [
    "7 == 7   // true\n",
    "7 === 7  // true\n",
    "\n",
    "7 == '7' // true\n",
    "7 === '7' // false"
   ]
  },
  {
   "cell_type": "markdown",
   "metadata": {},
   "source": [
    "# (DONE) How passing an argument into a function may or may not permanently change the value that a variable contains or points to"
   ]
  },
  {
   "cell_type": "markdown",
   "metadata": {},
   "source": [
    "Whether or not a function mutates a value that is referenced by a variable depends on what type of data the value is and if a **mutating** operation is\n",
    "called on the value. If the argument is any one of Javascript's primitive values, (strings, booleans or numbers), than the function cannot mutate or modify it. If the argument is an array or object, than there's a chance that the argument's values can be mutated or modified."
   ]
  },
  {
   "cell_type": "markdown",
   "metadata": {},
   "source": [
    "In this example, `numbers` is an array containing `5` digits. The array itself is an object, which means that it is mutable. The digits contained within the array are primitive values, which are not themselves mutable. Within the `reservedArray` function declaration, we invoke the `reserve()` method on the passed in array argument, permanently altering the order in which see the digits in the array. We output the return value of the function declaration after the reversal operation, which returns `[5, 4, 3, 2, 1]`. We then log the original value of the `numbers` array and see that it is indeed modified permanently by the `reversedArray()` function declaration.\n"
   ]
  },
  {
   "cell_type": "code",
   "execution_count": 75,
   "metadata": {},
   "outputs": [
    {
     "name": "stdout",
     "output_type": "stream",
     "text": [
      "[ 5, 4, 3, 2, 1 ]\n",
      "[ 5, 4, 3, 2, 1 ]\n"
     ]
    }
   ],
   "source": [
    "function reversedArray(array) {\n",
    "  return array.reverse();\n",
    "}\n",
    "\n",
    "let numbers = [1, 2, 3, 4, 5];\n",
    "console.log(reversedArray(numbers)); // [ 5, 4, 3, 2, 1 ]\n",
    "console.log(numbers); //[ 5, 4, 3, 2, 1 ]\n"
   ]
  },
  {
   "cell_type": "markdown",
   "metadata": {},
   "source": [
    "# (DONE) Working with Strings, Arrays, and Objects. In particular, you should be thoroughly familiar with the basic Array iteration methods (forEach, map, filter, and find) and how to use Object methods to access the keys and values in an Object as an Array"
   ]
  },
  {
   "cell_type": "markdown",
   "metadata": {},
   "source": [
    "**forEach()**"
   ]
  },
  {
   "cell_type": "markdown",
   "metadata": {},
   "source": [
    "The `Array.prototype.forEach()` method executes a function for each element of an array. The return value for `forEach()` is `undefined`. In this example, we declare and initialize a global variable `seasons` that references a 4-element array. Each element is a string that represents a season. Using `forEach()`, we iterate over the `seasons` array and execute the function `(season => console.log(season)` for each element. This arrow function logs each season to the console using `console.log()` on its own line. `forEach()` accepts a **callback function** as an argument, in this case it is: `(season => console.log(season)`, and applies this function to every element in the array.\n"
   ]
  },
  {
   "cell_type": "code",
   "execution_count": 77,
   "metadata": {},
   "outputs": [
    {
     "name": "stdout",
     "output_type": "stream",
     "text": [
      "spring\n",
      "summer\n",
      "fall\n",
      "winter\n"
     ]
    }
   ],
   "source": [
    "let seasons = ['spring', 'summer', 'fall', 'winter'];\n",
    "\n",
    "seasons.forEach(season => console.log(season));\n",
    "\n",
    "// spring\n",
    "// summer\n",
    "// fall\n",
    "// winter"
   ]
  },
  {
   "cell_type": "markdown",
   "metadata": {},
   "source": [
    "**map**"
   ]
  },
  {
   "cell_type": "markdown",
   "metadata": {},
   "source": [
    "The `Array.prototype.map()` method returns a new array containing the results of executing the provided callback function for each element in the array argument. In this example, we declare and initialize a global variable called `seasons` and set it to reference a 4-element array. Each element is a string that represents a season. On `line 3` we declare and initialize a `result `variable and set it to reference the return value of calling `map()` on the `seasons` array. Using `map()`, we can provide a callback function `season => season.toUpperCase()` that takes each string element and uppercases it using `toUpperCase()`. This callback function is applied to each element in the array, return a new result. This will not modify the original elements of the `seasons` array, but instead will return a **new** array that contains these transformed elements. We invoke `console.log()` on `line 4` and pass in the `result` variable to it as an argument to log its value of `[ 'SPRING', 'SUMMER', 'FALL', 'WINTER' ]`. On `line 5` we invoke `console.log()` again, passing in `seasons` which logs `[ 'spring', 'summer', 'fall', 'winter' ]`. These two calls to `console.log()` on `line 4` and `line 5` return `undefined`.\n"
   ]
  },
  {
   "cell_type": "code",
   "execution_count": 79,
   "metadata": {},
   "outputs": [
    {
     "name": "stdout",
     "output_type": "stream",
     "text": [
      "[ 'SPRING', 'SUMMER', 'FALL', 'WINTER' ]\n",
      "[ 'spring', 'summer', 'fall', 'winter' ]\n"
     ]
    }
   ],
   "source": [
    "let seasons = ['spring', 'summer', 'fall', 'winter'];\n",
    "let result = seasons.map(season => season.toUpperCase());\n",
    "\n",
    "console.log(result);  // [ 'SPRING', 'SUMMER', 'FALL', 'WINTER' ]\n",
    "console.log(seasons); // [ 'spring', 'summer', 'fall', 'winter' ]"
   ]
  },
  {
   "cell_type": "markdown",
   "metadata": {},
   "source": [
    "**filter**"
   ]
  },
  {
   "cell_type": "markdown",
   "metadata": {},
   "source": [
    "The `Array.prototype.filter()` method returns a new array that contains all the elements of the argument array that evaluate to `true` by the function. In this example, we declare and initialize an array called `numbers` and set it to reference an array `[1, 2, 3, 4, 5]`. We use the `filter()` method to only keep elements that can be coerced to `true` in a boolean context. We use `n % 2 == 1` to only keep numbers that are odd. The new array will contain numbers `1`, `3`, `5`. The return value of calling this method on `numbers` is `[1, 3, 5]`.\n"
   ]
  },
  {
   "cell_type": "code",
   "execution_count": 80,
   "metadata": {},
   "outputs": [
    {
     "data": {
      "text/plain": [
       "[ 1, 3, 5 ]"
      ]
     },
     "execution_count": 80,
     "metadata": {},
     "output_type": "execute_result"
    }
   ],
   "source": [
    "let numbers = [1, 2, 3, 4, 5];\n",
    "\n",
    "numbers.filter(n => n % 2 == 1); // [1, 3, 5]"
   ]
  },
  {
   "cell_type": "markdown",
   "metadata": {},
   "source": [
    "**find**"
   ]
  },
  {
   "cell_type": "markdown",
   "metadata": {},
   "source": [
    "The `Array.prototype.find()` method returns an element from the provided array argument that satisfies the function. `undefined` is returned if no elements in the array can evaluate to `true` for the testing function. In this example, we want to return the string whose length is greater than `4`. We achieve this by calling the `find()` method on the `flowers` array. The function that is passed to `find()` evaluates each value in the array and returns a boolean based on the return value of the expression, `flower.length > 4`. The return value is `orchid`.\n"
   ]
  },
  {
   "cell_type": "code",
   "execution_count": 81,
   "metadata": {},
   "outputs": [
    {
     "data": {
      "text/plain": [
       "'orchid'"
      ]
     },
     "execution_count": 81,
     "metadata": {},
     "output_type": "execute_result"
    }
   ],
   "source": [
    "let flowers = ['rose', 'lily', 'orchid'];\n",
    "\n",
    "flowers.find(flower => flower.length > 4); // orchid"
   ]
  },
  {
   "cell_type": "markdown",
   "metadata": {},
   "source": [
    "**Objects**"
   ]
  },
  {
   "cell_type": "markdown",
   "metadata": {},
   "source": [
    "We can use a `for..in` loop to iterate over the properties of an object and access their names and values. In this example, we have a `pets` object that contains two properties, one for a dog and the other for a cat. We use `for..in` to log a sentence to the console that contains the pet's type and their name:\n"
   ]
  },
  {
   "cell_type": "code",
   "execution_count": 82,
   "metadata": {},
   "outputs": [
    {
     "name": "stdout",
     "output_type": "stream",
     "text": [
      "We have a dog named Neptune.\n",
      "We have a cat named Lucifer.\n"
     ]
    }
   ],
   "source": [
    "let pets = {\n",
    "  dog: 'Neptune',\n",
    "  cat: 'Lucifer',\n",
    "};\n",
    "\n",
    "for (let pet in pets) {\n",
    "  console.log(`We have a ${pet} named ${pets[pet]}.`);\n",
    "}\n",
    "\n",
    "// We have a dog named Neptune.\n",
    "// We have a cat named Lucifer."
   ]
  },
  {
   "cell_type": "markdown",
   "metadata": {},
   "source": [
    "**Arrays**"
   ]
  },
  {
   "cell_type": "markdown",
   "metadata": {},
   "source": [
    "Arrays in Javascript are actually objects. They contain key/value pairs. In this example, we declare and initialize the global variable `books` to an array that contains two books. We log the value of `typeof books` to the console and see that the array is in fact an `object`. We can use the `Object.keys()` method to return an array that contains strings with the index value of the books in the array. Using `Object.values()`, we see the values that are associated with the property's keys. We can create an object with the same properties as the `books` array and they would be equivalent in value, as we demonstrate on lines `6-9`.\n"
   ]
  },
  {
   "cell_type": "code",
   "execution_count": 85,
   "metadata": {},
   "outputs": [
    {
     "name": "stdout",
     "output_type": "stream",
     "text": [
      "object\n",
      "[ '0', '1' ]\n",
      "[ 'Harry Potter', 'Middlemarch' ]\n"
     ]
    }
   ],
   "source": [
    "let books = ['Harry Potter', 'Middlemarch'];\n",
    "\n",
    "console.log(typeof books);         // object\n",
    "console.log(Object.keys(books));   // ['0', '1']\n",
    "console.log(Object.values(books)); // ['Harry Potter', 'Middlemarch']\n",
    "\n",
    "// How the 'books' array would look like as an object:\n",
    "\n",
    "// let books = {\n",
    "//   '0': 'Harry Potter',\n",
    "//   '1': 'Middlemarch',\n",
    "// };"
   ]
  },
  {
   "cell_type": "markdown",
   "metadata": {},
   "source": [
    "We can use the `[]` bracket notation on the `books` array to access the value of the key `1`:"
   ]
  },
  {
   "cell_type": "code",
   "execution_count": 87,
   "metadata": {},
   "outputs": [
    {
     "name": "stdout",
     "output_type": "stream",
     "text": [
      "Middlemarch\n"
     ]
    }
   ],
   "source": [
    "let books = ['Harry Potter', 'Middlemarch'];\n",
    "console.log(books['1']); // Middlemarch"
   ]
  },
  {
   "cell_type": "markdown",
   "metadata": {},
   "source": [
    "# (DONE) Understand that arrays are objects, and be able to determine whether you have an Array"
   ]
  },
  {
   "cell_type": "markdown",
   "metadata": {},
   "source": [
    "Arrays in Javascript are actually objects. They are unordered lists that contain **elements**, which can be of any data type. The elements of an array are placed in between brackets `[]`. Arrays use zero-based indexing, which means that the first element of an array is at position `0`, the second element at position `1`, etc. Arrays are mutable, which means that they can be modified in place."
   ]
  },
  {
   "cell_type": "code",
   "execution_count": null,
   "metadata": {},
   "outputs": [],
   "source": []
  }
 ],
 "metadata": {
  "kernelspec": {
   "display_name": "Javascript (Node.js)",
   "language": "javascript",
   "name": "javascript"
  },
  "language_info": {
   "file_extension": ".js",
   "mimetype": "application/javascript",
   "name": "javascript",
   "version": "10.19.0"
  }
 },
 "nbformat": 4,
 "nbformat_minor": 4
}
