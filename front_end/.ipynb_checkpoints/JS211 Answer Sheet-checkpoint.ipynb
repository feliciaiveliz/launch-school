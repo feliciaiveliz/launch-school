{
 "cells": [
  {
   "cell_type": "markdown",
   "metadata": {},
   "source": [
    "# Assignments & Comparisons"
   ]
  },
  {
   "cell_type": "markdown",
   "metadata": {},
   "source": [
    "A **variable declaration** reserves space in memory for a variable with a particular name. On `line 1`, we **declare** a variable called `randomNumber` with keyword `let`. This code example raises an error because we've declared this variable but have not initialized it to any value. "
   ]
  },
  {
   "cell_type": "code",
   "execution_count": 2,
   "metadata": {},
   "outputs": [
    {
     "ename": "SyntaxError",
     "evalue": "Identifier 'randomNumber' has already been declared",
     "output_type": "error",
     "traceback": [
      "evalmachine.<anonymous>:1",
      "let randomNumber;",
      "^",
      "",
      "SyntaxError: Identifier 'randomNumber' has already been declared",
      "    at evalmachine.<anonymous>:1:1",
      "    at Script.runInThisContext (vm.js:122:20)",
      "    at Object.runInThisContext (vm.js:329:38)",
      "    at run ([eval]:1054:15)",
      "    at onRunRequest ([eval]:888:18)",
      "    at onMessage ([eval]:848:13)",
      "    at process.emit (events.js:198:13)",
      "    at emit (internal/child_process.js:832:12)",
      "    at process._tickCallback (internal/process/next_tick.js:63:19)"
     ]
    }
   ],
   "source": [
    "let randomNumber;\n",
    "console.log(randonNumber);"
   ]
  }
 ],
 "metadata": {
  "kernelspec": {
   "display_name": "Javascript (Node.js)",
   "language": "javascript",
   "name": "javascript"
  },
  "language_info": {
   "file_extension": ".js",
   "mimetype": "application/javascript",
   "name": "javascript",
   "version": "10.19.0"
  }
 },
 "nbformat": 4,
 "nbformat_minor": 4
}
